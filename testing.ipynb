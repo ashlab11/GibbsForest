{
 "cells": [
  {
   "cell_type": "code",
   "execution_count": 20,
   "metadata": {},
   "outputs": [
    {
     "name": "stdout",
     "output_type": "stream",
     "text": [
      "0.9167636087505203\n"
     ]
    }
   ],
   "source": [
    "import numpy as np\n",
    "import xgboost as xgb\n",
    "from collections import deque\n",
    "from Dynaforest import Dynatree\n",
    "from sklearn.utils.estimator_checks import check_estimator\n",
    "from sklearn.datasets import make_regression\n",
    "from sklearn.utils.validation import check_X_y, check_array\n",
    "\n",
    "\n",
    "def create_regression_data(n_points, n_features):\n",
    "    X = np.random.rand(n_points, n_features)\n",
    "    y = X[:, 0] * 5 + np.sign(X[:, 1]) + np.sin(X[:, 2]) + 1 + np.random.randn(n_points)\n",
    "    return X, y\n",
    "\n",
    "\n",
    "X, y = make_regression(\n",
    "    n_samples = 200000,\n",
    "    n_features = 10, \n",
    "    n_informative=5, \n",
    "    noise=50,\n",
    "    bias = 5.0, \n",
    "    random_state=42\n",
    ")\n",
    "\n",
    "model = xgb.XGBRegressor(n_estimators=100, max_depth=3, learning_rate=0.1)\n",
    "#model = Dynatree(n_trees=5, window=2, max_depth=3, min_samples=3)\n",
    "model.fit(X, y)\n",
    "print(model.score(X, y))  # Should be near 1.0 if it splits properly\n",
    "\n"
   ]
  },
  {
   "cell_type": "code",
   "execution_count": 6,
   "metadata": {},
   "outputs": [
    {
     "data": {
      "text/plain": [
       "array([1, 2, 3, 4, 5, 6])"
      ]
     },
     "execution_count": 6,
     "metadata": {},
     "output_type": "execute_result"
    }
   ],
   "source": [
    "a = np.array([\n",
    "    [1, 2, 3, 4, 5, 5], \n",
    "    [1, 2, 3, 4, 5, 6]]\n",
    ")\n",
    "a[1, :]"
   ]
  },
  {
   "cell_type": "code",
   "execution_count": null,
   "metadata": {},
   "outputs": [],
   "source": [
    "from scan_thresholds import get_best_sse3, get_best_sse\n",
    "test_X = np.arange(0, 5, 0.2).reshape(-1, 1)\n",
    "test_y = np.sin(test_X) - np.cos(test_X) \n",
    "test_y = test_y.ravel()\n",
    "\n",
    "forest = Dynatree(n_trees=10, window = 4)\n",
    "forest.fit(test_X, test_y)\n",
    "print(forest._trees[0].root)\n",
    "print(test_y - forest.predict(test_X))\n",
    "print(np.sum((forest.predict(test_X) - test_y)**2))\n"
   ]
  },
  {
   "cell_type": "code",
   "execution_count": 12,
   "metadata": {},
   "outputs": [
    {
     "name": "stdout",
     "output_type": "stream",
     "text": [
      "[0.90875 0.45875     nan]\n",
      "2\n"
     ]
    },
    {
     "name": "stderr",
     "output_type": "stream",
     "text": [
      "/var/folders/b1/dp_lgrnx2s71rj9w2dv4fhbm0000gn/T/ipykernel_88704/1756357109.py:31: RuntimeWarning: invalid value encountered in divide\n",
      "  2 / (alpha + 1) * suffix_sum_y**2 / suffix_idxs +\n",
      "/var/folders/b1/dp_lgrnx2s71rj9w2dv4fhbm0000gn/T/ipykernel_88704/1756357109.py:33: RuntimeWarning: invalid value encountered in divide\n",
      "  (2*alpha) / (alpha + 1)**2 * suffix_sum_y * suffix_sum_other_predictions / suffix_idxs +\n",
      "/var/folders/b1/dp_lgrnx2s71rj9w2dv4fhbm0000gn/T/ipykernel_88704/1756357109.py:34: RuntimeWarning: invalid value encountered in divide\n",
      "  suffix_sum_y**2 / suffix_idxs * 1/(alpha + 1)**2)\n"
     ]
    }
   ],
   "source": [
    "sort_idx = np.argsort(test_X[:, 1])\n",
    "X_col_sorted = test_X[:, 1][sort_idx]\n",
    "y_sorted = test_y[sort_idx]\n",
    "other_predictions_sorted = test_other_predictions[sort_idx]\n",
    "\n",
    "alpha = 3\n",
    "\n",
    "prefix_sum_y = np.cumsum(y_sorted)\n",
    "prefix_sum_y_squared = np.cumsum(y_sorted**2)\n",
    "prefix_sum_other_predictions = np.cumsum(other_predictions_sorted)\n",
    "prefix_sum_other_predictions_squared = np.cumsum(other_predictions_sorted**2)\n",
    "prefix_sum_multiplication = np.cumsum(y_sorted * other_predictions_sorted)\n",
    "prefix_idxs = list(range(1, len(y_sorted) + 1))\n",
    "\n",
    "left_error = (prefix_sum_y_squared -\n",
    "            (2*alpha) / (alpha + 1) * prefix_sum_multiplication -\n",
    "            2 / (alpha + 1) * prefix_sum_y**2 / prefix_idxs + \n",
    "            prefix_sum_other_predictions_squared * (alpha / (alpha + 1))**2 + \n",
    "                (2*alpha) / (alpha + 1)**2 * prefix_sum_y * prefix_sum_other_predictions / prefix_idxs + \n",
    "                prefix_sum_y**2 / prefix_idxs * 1/(alpha + 1)**2)\n",
    "\n",
    "suffix_sum_y = np.sum(y_sorted) - prefix_sum_y\n",
    "suffix_sum_y_squared = np.sum(y_sorted**2) - prefix_sum_y_squared\n",
    "suffix_sum_other_predictions = np.sum(other_predictions_sorted) - prefix_sum_other_predictions\n",
    "suffix_sum_other_predictions_squared = np.sum(other_predictions_sorted**2) - prefix_sum_other_predictions_squared\n",
    "suffix_sum_multiplication = np.sum(y_sorted * other_predictions_sorted) - prefix_sum_multiplication\n",
    "suffix_idxs = list(range(len(y_sorted) - 1, -1, -1))\n",
    "\n",
    "right_error = (suffix_sum_y_squared -\n",
    "                        (2*alpha) / (alpha + 1) * suffix_sum_multiplication -\n",
    "                        2 / (alpha + 1) * suffix_sum_y**2 / suffix_idxs +\n",
    "                        suffix_sum_other_predictions_squared * (alpha / (alpha + 1))**2 +\n",
    "                        (2*alpha) / (alpha + 1)**2 * suffix_sum_y * suffix_sum_other_predictions / suffix_idxs +\n",
    "                        suffix_sum_y**2 / suffix_idxs * 1/(alpha + 1)**2)\n",
    "\n",
    "sum_error = left_error + right_error\n",
    "print(sum_error)\n",
    "print(np.argmin(sum_error))\n",
    "\n"
   ]
  },
  {
   "cell_type": "code",
   "execution_count": 7,
   "metadata": {},
   "outputs": [
    {
     "name": "stdout",
     "output_type": "stream",
     "text": [
      "Splitting tree, error reduction: 155.20833333333334\n",
      "Creating new tree, error reduction: 82.65625\n",
      "Splitting tree, error reduction: 19.53125\n",
      "Creating new tree, error reduction: 15.306712962962933\n",
      "Splitting tree, error reduction: 14.467592592592592\n",
      "Creating new tree, error reduction: 5.357349537037038\n",
      "Splitting tree, error reduction: 11.393229166666668\n",
      "Creating new tree, error reduction: 2.47968749999999\n",
      "Splitting tree, error reduction: 11.393229166666671\n",
      "Splitting tree, error reduction: 1.3671875\n",
      "Splitting tree, error reduction: 1.3671875\n",
      "Splitting tree, error reduction: 1.3671875\n",
      "Splitting tree, error reduction: 1.3671875\n",
      "Splitting tree, error reduction: 1.3671875\n",
      "Splitting tree, error reduction: 1.3671875\n",
      "Splitting tree, error reduction: 1.3671875\n",
      "Splitting tree, error reduction: 1.3671875\n",
      "No more error reduction possible\n",
      "2\n"
     ]
    },
    {
     "ename": "AssertionError",
     "evalue": "",
     "output_type": "error",
     "traceback": [
      "\u001b[0;31m---------------------------------------------------------------------------\u001b[0m",
      "\u001b[0;31mAssertionError\u001b[0m                            Traceback (most recent call last)",
      "Cell \u001b[0;32mIn[7], line 8\u001b[0m\n\u001b[1;32m      6\u001b[0m \u001b[38;5;66;03m#Test requirements for splitting\u001b[39;00m\n\u001b[1;32m      7\u001b[0m \u001b[38;5;28mprint\u001b[39m(forest\u001b[38;5;241m.\u001b[39mtrees[\u001b[38;5;241m0\u001b[39m]\u001b[38;5;241m.\u001b[39mroot\u001b[38;5;241m.\u001b[39mcurr_best_splitting_val)\n\u001b[0;32m----> 8\u001b[0m \u001b[38;5;28;01massert\u001b[39;00m forest\u001b[38;5;241m.\u001b[39mtrees[\u001b[38;5;241m0\u001b[39m]\u001b[38;5;241m.\u001b[39mroot\u001b[38;5;241m.\u001b[39mleft\u001b[38;5;241m.\u001b[39mcurr_best_splitting_val \u001b[38;5;241m==\u001b[39m \u001b[38;5;241m2\u001b[39m\n",
      "\u001b[0;31mAssertionError\u001b[0m: "
     ]
    }
   ],
   "source": [
    "X = np.array([1, 2, 3, 4, 5]).reshape(-1, 1)\n",
    "y = [2.5, 0, -5, 10, 7.5]\n",
    "forest = Dynatree(n_trees = 10, window = 4, max_depth = 3, min_samples = 1)\n",
    "forest.fit(X, y)\n",
    "\n",
    "#Test requirements for splitting\n",
    "print(forest.trees[0].root.curr_best_splitting_val)\n",
    "assert forest.trees[0].root.left.curr_best_splitting_val == 2\n"
   ]
  },
  {
   "cell_type": "code",
   "execution_count": 14,
   "metadata": {},
   "outputs": [
    {
     "data": {
      "text/plain": [
       "(2.09375, 0, 2)"
      ]
     },
     "execution_count": 14,
     "metadata": {},
     "output_type": "execute_result"
    }
   ],
   "source": [
    "from scan_thresholds import get_best_sse3, get_best_sse\n",
    "\n",
    "get_best_sse(\n",
    "    X = np.array([1, 2, 3, 4, 5]).reshape(-1, 1), \n",
    "    y = np.array([2.5, 3, 5.5, 7, 8.5]),\n",
    "    other_predictions=np.array([2.75, 2.75, 5.5, 7.75, 7.75]), \n",
    "    num_cols_other_predictions=1, \n",
    "    min_samples=1\n",
    ")"
   ]
  },
  {
   "cell_type": "code",
   "execution_count": 12,
   "metadata": {},
   "outputs": [
    {
     "data": {
      "text/plain": [
       "1.25"
      ]
     },
     "execution_count": 12,
     "metadata": {},
     "output_type": "execute_result"
    }
   ],
   "source": [
    "np.sum((np.array([2.5, 3, 5.5, 7, 8.5]) - np.array([2.75, 2.75, 5.5, 7.75, 7.75]))**2)"
   ]
  }
 ],
 "metadata": {
  "kernelspec": {
   "display_name": "data1030",
   "language": "python",
   "name": "python3"
  },
  "language_info": {
   "codemirror_mode": {
    "name": "ipython",
    "version": 3
   },
   "file_extension": ".py",
   "mimetype": "text/x-python",
   "name": "python",
   "nbconvert_exporter": "python",
   "pygments_lexer": "ipython3",
   "version": "3.11.4"
  }
 },
 "nbformat": 4,
 "nbformat_minor": 2
}
