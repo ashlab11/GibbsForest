{
 "cells": [
  {
   "cell_type": "code",
   "execution_count": 2,
   "metadata": {},
   "outputs": [],
   "source": [
    "import numpy as np\n",
    "from collections import deque\n",
    "from Dynatree import Dynatree\n",
    "from sklearn.utils.estimator_checks import check_estimator\n",
    "\n",
    "\n",
    "def create_regression_data(n_points, n_features):\n",
    "    X = np.random.rand(n_points, n_features)\n",
    "    y = X[:, 0] * 5 + np.sign(X[:, 1]) + np.sin(X[:, 2]) + 1 + np.random.randn(n_points)\n",
    "    return X, y\n",
    "\n",
    "\n",
    "X_train, y_train = create_regression_data(1000, 3)\n",
    "X_test, y_test = create_regression_data(100, 3)\n",
    "\n",
    "\n",
    "forest = Dynatree(n_trees=10, window = 10)\n",
    "#forest.fit(X_train, y_train)\n",
    "\n",
    "#predictions = forest.predict(X_test)\n",
    "#print(check_estimator(Dynatree()))\n",
    "\n",
    "#print(np.mean((y_test - predictions)**2))\n"
   ]
  },
  {
   "cell_type": "code",
   "execution_count": null,
   "metadata": {},
   "outputs": [
    {
     "name": "stdout",
     "output_type": "stream",
     "text": [
      "(0.45875000000000005, 2, 1.4)\n",
      "0.45875000000000005\n"
     ]
    }
   ],
   "source": [
    "from scan_thresholds import get_best_sse3, get_best_sse\n",
    "test_X = np.array([[0.24, 0.2, 8], [1.2, 9, 10], [0.7, 1.2, 1.4]])\n",
    "test_y = np.array([1, 2, 3])\n",
    "\n",
    "test_other_predictions = np.array([0.5, 3, 3.1])\n",
    "test_other_predictions_num = 3\n",
    "\n",
    "print(get_best_sse(test_X, test_y, test_other_predictions, test_other_predictions_num, \n",
    "                   min_samples = 1))\n",
    "\n",
    "predictions_2 = (test_other_predictions * 3 + [1.5, 1.5, 3]) / 4\n",
    "print(np.sum((test_y - predictions_2)**2))\n",
    "\n",
    "#We expect to see a split in column 2, with a threshold of 1.4\n",
    "\n",
    "\n"
   ]
  },
  {
   "cell_type": "code",
   "execution_count": 12,
   "metadata": {},
   "outputs": [
    {
     "name": "stdout",
     "output_type": "stream",
     "text": [
      "[0.90875 0.45875     nan]\n",
      "2\n"
     ]
    },
    {
     "name": "stderr",
     "output_type": "stream",
     "text": [
      "/var/folders/b1/dp_lgrnx2s71rj9w2dv4fhbm0000gn/T/ipykernel_88704/1756357109.py:31: RuntimeWarning: invalid value encountered in divide\n",
      "  2 / (alpha + 1) * suffix_sum_y**2 / suffix_idxs +\n",
      "/var/folders/b1/dp_lgrnx2s71rj9w2dv4fhbm0000gn/T/ipykernel_88704/1756357109.py:33: RuntimeWarning: invalid value encountered in divide\n",
      "  (2*alpha) / (alpha + 1)**2 * suffix_sum_y * suffix_sum_other_predictions / suffix_idxs +\n",
      "/var/folders/b1/dp_lgrnx2s71rj9w2dv4fhbm0000gn/T/ipykernel_88704/1756357109.py:34: RuntimeWarning: invalid value encountered in divide\n",
      "  suffix_sum_y**2 / suffix_idxs * 1/(alpha + 1)**2)\n"
     ]
    }
   ],
   "source": [
    "sort_idx = np.argsort(test_X[:, 1])\n",
    "X_col_sorted = test_X[:, 1][sort_idx]\n",
    "y_sorted = test_y[sort_idx]\n",
    "other_predictions_sorted = test_other_predictions[sort_idx]\n",
    "\n",
    "alpha = 3\n",
    "\n",
    "prefix_sum_y = np.cumsum(y_sorted)\n",
    "prefix_sum_y_squared = np.cumsum(y_sorted**2)\n",
    "prefix_sum_other_predictions = np.cumsum(other_predictions_sorted)\n",
    "prefix_sum_other_predictions_squared = np.cumsum(other_predictions_sorted**2)\n",
    "prefix_sum_multiplication = np.cumsum(y_sorted * other_predictions_sorted)\n",
    "prefix_idxs = list(range(1, len(y_sorted) + 1))\n",
    "\n",
    "left_error = (prefix_sum_y_squared -\n",
    "            (2*alpha) / (alpha + 1) * prefix_sum_multiplication -\n",
    "            2 / (alpha + 1) * prefix_sum_y**2 / prefix_idxs + \n",
    "            prefix_sum_other_predictions_squared * (alpha / (alpha + 1))**2 + \n",
    "                (2*alpha) / (alpha + 1)**2 * prefix_sum_y * prefix_sum_other_predictions / prefix_idxs + \n",
    "                prefix_sum_y**2 / prefix_idxs * 1/(alpha + 1)**2)\n",
    "\n",
    "suffix_sum_y = np.sum(y_sorted) - prefix_sum_y\n",
    "suffix_sum_y_squared = np.sum(y_sorted**2) - prefix_sum_y_squared\n",
    "suffix_sum_other_predictions = np.sum(other_predictions_sorted) - prefix_sum_other_predictions\n",
    "suffix_sum_other_predictions_squared = np.sum(other_predictions_sorted**2) - prefix_sum_other_predictions_squared\n",
    "suffix_sum_multiplication = np.sum(y_sorted * other_predictions_sorted) - prefix_sum_multiplication\n",
    "suffix_idxs = list(range(len(y_sorted) - 1, -1, -1))\n",
    "\n",
    "right_error = (suffix_sum_y_squared -\n",
    "                        (2*alpha) / (alpha + 1) * suffix_sum_multiplication -\n",
    "                        2 / (alpha + 1) * suffix_sum_y**2 / suffix_idxs +\n",
    "                        suffix_sum_other_predictions_squared * (alpha / (alpha + 1))**2 +\n",
    "                        (2*alpha) / (alpha + 1)**2 * suffix_sum_y * suffix_sum_other_predictions / suffix_idxs +\n",
    "                        suffix_sum_y**2 / suffix_idxs * 1/(alpha + 1)**2)\n",
    "\n",
    "sum_error = left_error + right_error\n",
    "print(sum_error)\n",
    "print(np.argmin(sum_error))\n",
    "\n"
   ]
  },
  {
   "cell_type": "code",
   "execution_count": 13,
   "metadata": {},
   "outputs": [
    {
     "name": "stdout",
     "output_type": "stream",
     "text": [
      "[2 3 4]\n"
     ]
    }
   ],
   "source": [
    "array = np.array([1, 2, 3, 4, 5])\n",
    "print(array[1:len(array) - 1])"
   ]
  }
 ],
 "metadata": {
  "kernelspec": {
   "display_name": "data1030",
   "language": "python",
   "name": "python3"
  },
  "language_info": {
   "codemirror_mode": {
    "name": "ipython",
    "version": 3
   },
   "file_extension": ".py",
   "mimetype": "text/x-python",
   "name": "python",
   "nbconvert_exporter": "python",
   "pygments_lexer": "ipython3",
   "version": "3.11.4"
  }
 },
 "nbformat": 4,
 "nbformat_minor": 2
}
