{
 "cells": [
  {
   "cell_type": "code",
   "execution_count": 1,
   "metadata": {},
   "outputs": [],
   "source": [
    "import openml\n",
    "from openml.tasks import list_tasks, TaskType\n",
    "from sklearn.ensemble import RandomForestRegressor\n",
    "from xgboost import XGBRegressor\n",
    "import Dynaforest\n",
    "from Dynaforest import Dynatree\n",
    "import logging\n",
    "\n",
    "\n",
    "\n",
    "# Load the OpenML dataset\n",
    "regression_tasks = list_tasks(task_type = TaskType.SUPERVISED_REGRESSION)\n",
    "small_tasks_ids = []\n",
    "for task_id, task_value in regression_tasks.items():\n",
    "    if ('NumberOfInstances' in task_value.keys() and task_value['NumberOfInstances'] < 10000 and task_value['NumberOfInstances'] > 5000 and \n",
    "    'NumberOfMissingValues' in task_value.keys() and task_value['NumberOfMissingValues'] == 0 and \n",
    "    'NumberOfSymbolicFeatures' in task_value.keys() and task_value['NumberOfSymbolicFeatures'] == 0):\n",
    "        small_tasks_ids.append(task_id)"
   ]
  },
  {
   "cell_type": "code",
   "execution_count": 2,
   "metadata": {},
   "outputs": [
    {
     "data": {
      "text/plain": [
       "'Dynaforest = Dynatree(n_trees = 50, window = 5, max_depth=4, min_samples = 2, feature_subsampling_pct=0.9, \\n                      delta=0.1)\\nRF = RandomForestRegressor(n_estimators=50, max_depth=4)\\nXGB = XGBRegressor(n_estimators=50, max_depth=4)\\n\\n# Run your custom model on the task\\nrun_my = openml.runs.run_model_on_task(Dynaforest, task, avoid_duplicate_runs=False)\\n\\n# Run RandomForest\\nrun_rf = openml.runs.run_model_on_task(RF, task, avoid_duplicate_runs=False)\\n\\n# Run XGBoost\\nrun_xgb = openml.runs.run_model_on_task(XGB, task, avoid_duplicate_runs=False)\\n\\ndyna_mae = run_my.fold_evaluations.get(\"mean_absolute_error\")\\nmy_mae = sum(dyna_mae[0].values()) / len(dyna_mae)\\nrf_mae = run_rf.fold_evaluations.get(\"mean_absolute_error\")\\navg_rf_mae = sum(rf_mae[0].values()) / len(rf_mae)\\nxgb_mae = run_xgb.fold_evaluations.get(\"mean_absolute_error\")\\navg_xgb_mae = sum(xgb_mae[0].values()) / len(xgb_mae)\\n\\nprint(f\"Task {task_id} - Mean Absolute Error:\")\\nprint(f\"    MyRegressor: {my_mae:.4f}\")\\nprint(f\"    RandomForest: {avg_rf_mae}\")\\nprint(f\"    XGBoost: {avg_xgb_mae}\")'"
      ]
     },
     "execution_count": 2,
     "metadata": {},
     "output_type": "execute_result"
    }
   ],
   "source": [
    "logging.getLogger(\"openml.extensions.sklearn.extension\").setLevel(logging.ERROR)\n",
    "if not hasattr(Dynaforest, '__version__'):\n",
    "    Dynaforest.__version__ = \"0.0.1\"  # Use an appropriate version number\n",
    "\n",
    "task_id = small_tasks_ids[0]\n",
    "task = openml.tasks.get_task(task_id)\n",
    "\n",
    "\"\"\"Dynaforest = Dynatree(n_trees = 50, window = 5, max_depth=4, min_samples = 2, feature_subsampling_pct=0.9, \n",
    "                      delta=0.1)\n",
    "RF = RandomForestRegressor(n_estimators=50, max_depth=4)\n",
    "XGB = XGBRegressor(n_estimators=50, max_depth=4)\n",
    "\n",
    "# Run your custom model on the task\n",
    "run_my = openml.runs.run_model_on_task(Dynaforest, task, avoid_duplicate_runs=False)\n",
    "\n",
    "# Run RandomForest\n",
    "run_rf = openml.runs.run_model_on_task(RF, task, avoid_duplicate_runs=False)\n",
    "\n",
    "# Run XGBoost\n",
    "run_xgb = openml.runs.run_model_on_task(XGB, task, avoid_duplicate_runs=False)\n",
    "\n",
    "dyna_mae = run_my.fold_evaluations.get(\"mean_absolute_error\")\n",
    "my_mae = sum(dyna_mae[0].values()) / len(dyna_mae)\n",
    "rf_mae = run_rf.fold_evaluations.get(\"mean_absolute_error\")\n",
    "avg_rf_mae = sum(rf_mae[0].values()) / len(rf_mae)\n",
    "xgb_mae = run_xgb.fold_evaluations.get(\"mean_absolute_error\")\n",
    "avg_xgb_mae = sum(xgb_mae[0].values()) / len(xgb_mae)\n",
    "\n",
    "print(f\"Task {task_id} - Mean Absolute Error:\")\n",
    "print(f\"    MyRegressor: {my_mae:.4f}\")\n",
    "print(f\"    RandomForest: {avg_rf_mae}\")\n",
    "print(f\"    XGBoost: {avg_xgb_mae}\")\"\"\""
   ]
  },
  {
   "cell_type": "code",
   "execution_count": 3,
   "metadata": {},
   "outputs": [
    {
     "name": "stdout",
     "output_type": "stream",
     "text": [
      "[[0.15475999 0.1481179  0.1556108 ]]\n"
     ]
    }
   ],
   "source": [
    "import numpy as np\n",
    "#Read in numpy array\n",
    "\n",
    "errors = np.load(\"errors.npy\")\n",
    "print(errors)"
   ]
  },
  {
   "cell_type": "code",
   "execution_count": 4,
   "metadata": {},
   "outputs": [
    {
     "name": "stdout",
     "output_type": "stream",
     "text": [
      "This forest has a total of 2103 splits\n",
      "This forest has a total of 68 trees\n",
      "This forest has a total of 2103 splits\n",
      "This forest has a total of 68 trees\n",
      "Train error: 0.1441\n",
      "Test error: 0.1544\n"
     ]
    }
   ],
   "source": [
    "from sklearn.model_selection import train_test_split\n",
    "from sklearn.metrics import mean_absolute_error\n",
    "\n",
    "dynatree_params = {\"delta\": 0,\n",
    "            \"max_depth\": 5,\n",
    "            \"min_samples\": 1,\n",
    "            \"n_trees\": 68,\n",
    "            \"window\": 10, \n",
    "            'feature_subsampling_pct': 0.5}\n",
    "\n",
    "dyna = Dynatree(**dynatree_params)\n",
    "\"\"\"rf_params = {\n",
    "            \"max_depth\": 5,\n",
    "            \"max_features\": 0.50,\n",
    "            \"min_samples_leaf\": 3,\n",
    "            \"n_estimators\": 68}\n",
    "dyna = RandomForestRegressor(**rf_params)\n",
    "\"\"\"\n",
    "X, y = task.get_X_and_y()\n",
    "\n",
    "X_train, X_test, y_train, y_test = train_test_split(X, y, test_size = 0.2, random_state = 42)\n",
    "dyna.fit(X_train, y_train)\n",
    "train_error = mean_absolute_error(y_train, dyna.predict(X_train))\n",
    "test_error = mean_absolute_error(y_test, dyna.predict(X_test))\n",
    "print(f\"Train error: {train_error:.4f}\")\n",
    "print(f\"Test error: {test_error:.4f}\")"
   ]
  },
  {
   "cell_type": "code",
   "execution_count": 7,
   "metadata": {},
   "outputs": [
    {
     "name": "stdout",
     "output_type": "stream",
     "text": [
      "Correlations: 0.7743102447063231\n",
      "Tree biases: 0.002009792794789265\n"
     ]
    }
   ],
   "source": [
    "trees = dyna._trees\n",
    "predictions = [tree.predict(X_test) for tree in trees]\n",
    "tree_biases = np.mean(predictions - y_test, axis = 1)\n",
    "correlations = np.zeros((len(trees), len(trees)))\n",
    "for i in range(len(trees)):\n",
    "    for j in range(i, len(trees)):\n",
    "        correlations[i, j] = np.corrcoef(predictions[i], predictions[j])[0, 1]\n",
    "        correlations[j, i] = correlations[i, j]\n",
    "print(f\"Correlations: {np.mean(correlations)}\")\n",
    "print(f\"Tree biases: {np.mean(tree_biases)}\")"
   ]
  },
  {
   "cell_type": "code",
   "execution_count": 99,
   "metadata": {},
   "outputs": [
    {
     "name": "stdout",
     "output_type": "stream",
     "text": [
      "Correlations: 0.694528533687219\n",
      "Tree biases: 0.003157159783847129\n"
     ]
    }
   ],
   "source": [
    "trees = dyna.estimators_\n",
    "predictions = [tree.predict(X_test) for tree in trees]\n",
    "tree_biases = np.mean(predictions - y_test, axis = 1)\n",
    "correlations = np.zeros((len(trees), len(trees)))\n",
    "for i in range(len(trees)):\n",
    "    for j in range(i, len(trees)):\n",
    "        correlations[i, j] = np.corrcoef(predictions[i], predictions[j])[0, 1]\n",
    "        correlations[j, i] = correlations[i, j]\n",
    "print(f\"Correlations: {np.mean(correlations)}\")\n",
    "print(f\"Tree biases: {np.mean(tree_biases)}\")"
   ]
  },
  {
   "cell_type": "code",
   "execution_count": null,
   "metadata": {},
   "outputs": [],
   "source": []
  }
 ],
 "metadata": {
  "kernelspec": {
   "display_name": "data1030",
   "language": "python",
   "name": "python3"
  },
  "language_info": {
   "codemirror_mode": {
    "name": "ipython",
    "version": 3
   },
   "file_extension": ".py",
   "mimetype": "text/x-python",
   "name": "python",
   "nbconvert_exporter": "python",
   "pygments_lexer": "ipython3",
   "version": "3.11.4"
  }
 },
 "nbformat": 4,
 "nbformat_minor": 2
}
