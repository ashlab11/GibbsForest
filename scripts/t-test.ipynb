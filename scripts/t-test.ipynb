{
 "cells": [
  {
   "cell_type": "code",
   "execution_count": null,
   "metadata": {},
   "outputs": [
    {
     "name": "stdout",
     "output_type": "stream",
     "text": [
      "t = 0.661414810220687\n",
      "p = 0.5190843123254009\n",
      "t = 0.5814039943705059\n",
      "p = 0.5656197409403125\n"
     ]
    }
   ],
   "source": [
    "lgbm = [0.3123, 0.3187, 0.3089, 0.3069, 0.3042, 0.3077, 0.3118, 0.3224, 0.3053, 0.3141, 0.3137, 0.3196, 0.3133, 0.3253, 0.3052]\n",
    "gibbs = [0.3090, 0.3141, 0.3186, 0.3094, 0.2961, 0.3130, 0.3076, 0.3111, 0.3178, 0.3093, 0.3070, 0.3115, 0.3016, 0.3225, 0.3194]\n",
    "#Conduct paired t-test\n",
    "from scipy import stats\n",
    "t, p = stats.ttest_rel(lgbm, gibbs)\n",
    "print(\"t = \" + str(t))\n",
    "print(\"p = \" + str(p))\n"
   ]
  }
 ],
 "metadata": {
  "kernelspec": {
   "display_name": "data1030",
   "language": "python",
   "name": "python3"
  },
  "language_info": {
   "codemirror_mode": {
    "name": "ipython",
    "version": 3
   },
   "file_extension": ".py",
   "mimetype": "text/x-python",
   "name": "python",
   "nbconvert_exporter": "python",
   "pygments_lexer": "ipython3",
   "version": "3.11.4"
  }
 },
 "nbformat": 4,
 "nbformat_minor": 2
}
