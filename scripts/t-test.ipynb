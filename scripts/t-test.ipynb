{
 "cells": [
  {
   "cell_type": "code",
   "execution_count": 3,
   "metadata": {},
   "outputs": [
    {
     "name": "stdout",
     "output_type": "stream",
     "text": [
      "t = 3.6007480246484445\n",
      "p = 0.0014470916302382372\n"
     ]
    }
   ],
   "source": [
    "gibbs = [2.5057, 2.9823, 2.9026, 2.6724, 2.2842, 3.2044, 2.6319, 2.6039, 2.8235, 2.7094, 2.5700, 2.4602, 3.1329, 3.3765, 3.0645]\n",
    "lgbm = [2.8660, 3.2537, 3.2989, 2.7178, 2.7792, 3.1531, 3.0859, 2.7617, 2.9442, 2.9109, 2.6031, 2.9461, 3.3557, 3.5105, 3.1875]\n",
    "xgb = [3.3010, 3.4492, 3.2514, 3.1541, 2.7697, 3.0863, 3.2321, 2.8866, 2.7553, 3.0212, 2.7941, 2.4201, 3.0570, 3.4670, 3.1408]\n",
    "\n",
    "#Conduct paired t-test\n",
    "from scipy import stats\n",
    "t, p = stats.ttest_rel(xgb, gibbs, alternative='greater')\n",
    "print(\"t = \" + str(t))\n",
    "print(\"p = \" + str(p))\n"
   ]
  }
 ],
 "metadata": {
  "kernelspec": {
   "display_name": "data1030",
   "language": "python",
   "name": "python3"
  },
  "language_info": {
   "codemirror_mode": {
    "name": "ipython",
    "version": 3
   },
   "file_extension": ".py",
   "mimetype": "text/x-python",
   "name": "python",
   "nbconvert_exporter": "python",
   "pygments_lexer": "ipython3",
   "version": "3.11.4"
  }
 },
 "nbformat": 4,
 "nbformat_minor": 2
}
